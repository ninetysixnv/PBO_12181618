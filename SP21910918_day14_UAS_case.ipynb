{
 "cells": [
  {
   "cell_type": "code",
   "execution_count": 1,
   "metadata": {
    "scrolled": true
   },
   "outputs": [
    {
     "data": {
      "application/vnd.jupyter.widget-view+json": {
       "model_id": "427b289d-e37e-4e27-a46b-54ccfc6347fe",
       "version_major": 2,
       "version_minor": 0
      },
      "method": "display_data"
     },
     "metadata": {},
     "output_type": "display_data"
    }
   ],
   "source": [
    "//Load Library\n",
    "%classpath add jar libs/*"
   ]
  },
  {
   "cell_type": "code",
   "execution_count": 2,
   "metadata": {},
   "outputs": [
    {
     "data": {
      "text/html": [
       "<html></html>"
      ]
     },
     "execution_count": 2,
     "metadata": {},
     "output_type": "execute_result"
    }
   ],
   "source": [
    "//Render HTML\n",
    "%%html"
   ]
  },
  {
   "cell_type": "code",
   "execution_count": 3,
   "metadata": {
    "scrolled": true
   },
   "outputs": [
    {
     "name": "stdout",
     "output_type": "stream",
     "text": [
      "        Structure of 12181618.csv         \n",
      " Index  |  Column Name   |  Column Type  |\n",
      "------------------------------------------\n",
      "     0  |           _id  |      INTEGER  |\n",
      "     1  |           idx  |      INTEGER  |\n",
      "     2  |        series  |       STRING  |\n",
      "     3  |  kode_wilayah  |      INTEGER  |\n",
      "     4  |       wilayah  |       STRING  |\n",
      "     5  |         tahun  |      INTEGER  |\n",
      "     6  |      triwulan  |       STRING  |\n",
      "     7  |         bulan  |       STRING  |\n",
      "     8  |       tanggal  |       STRING  |\n",
      "     9  |         nilai  |       DOUBLE  |\n",
      "    10  |        target  |       STRING  |\n",
      "                                                                       12181618.csv                                                                       \n",
      " _id  |  idx  |             series             |  kode_wilayah  |     wilayah      |  tahun  |  triwulan  |  bulan  |  tanggal  |    nilai    |  target  |\n",
      "----------------------------------------------------------------------------------------------------------------------------------------------------------\n",
      "   1  |    0  |  Luas Lahan yang Dibakar (Ha)  |             1  |       Indonesia  |   2008  |            |         |           |  1857348.3  |          |\n",
      "   2  |    1  |  Luas Lahan yang Dibakar (Ha)  |            11  |            ACEH  |   2008  |            |         |           |    21402.1  |          |\n",
      "   3  |    2  |  Luas Lahan yang Dibakar (Ha)  |            12  |  SUMATERA UTARA  |   2008  |            |         |           |    15946.8  |          |\n",
      "   4  |    3  |  Luas Lahan yang Dibakar (Ha)  |            13  |  SUMATERA BARAT  |   2008  |            |         |           |     5601.2  |          |\n",
      "   5  |    4  |  Luas Lahan yang Dibakar (Ha)  |            14  |            RIAU  |   2008  |            |         |           |    13729.2  |          |\n",
      "        Structure of 12181618.json        \n",
      " Index  |  Column Name   |  Column Type  |\n",
      "------------------------------------------\n",
      "     0  |  kode_wilayah  |      INTEGER  |\n",
      "     1  |         tahun  |      INTEGER  |\n",
      "     2  |        series  |       STRING  |\n",
      "     3  |         nilai  |       DOUBLE  |\n",
      "     4  |           _id  |      INTEGER  |\n",
      "     5  |       wilayah  |       STRING  |\n",
      "     6  |       tanggal  |       STRING  |\n",
      "     7  |           idx  |      INTEGER  |\n",
      "     8  |         bulan  |       STRING  |\n",
      "     9  |      triwulan  |       STRING  |\n",
      "    10  |        target  |       STRING  |\n",
      "                                                                       12181618.json                                                                        \n",
      " kode_wilayah  |  tahun  |             series             |  nilai  |  _id  |        wilayah         |  tanggal  |  idx  |  bulan  |  triwulan  |  target  |\n",
      "------------------------------------------------------------------------------------------------------------------------------------------------------------\n",
      "         2172  |   2008  |  Luas Lahan yang Dibakar (Ha)  |         |  173  |   KOTA TANJUNG PINANG  |           |  172  |         |            |          |\n",
      "         3101  |   2008  |  Luas Lahan yang Dibakar (Ha)  |         |  174  |      KEPULAUAN SERIBU  |           |  173  |         |            |          |\n",
      "         3171  |   2008  |  Luas Lahan yang Dibakar (Ha)  |         |  175  |  KOTA JAKARTA SELATAN  |           |  174  |         |            |          |\n",
      "         3172  |   2008  |  Luas Lahan yang Dibakar (Ha)  |         |  176  |    KOTA JAKARTA TIMUR  |           |  175  |         |            |          |\n",
      "         3173  |   2008  |  Luas Lahan yang Dibakar (Ha)  |         |  177  |    KOTA JAKARTA PUSAT  |           |  176  |         |            |          |\n",
      "                                                                       12181618.csv                                                                       \n",
      " _id  |  idx  |             series             |  kode_wilayah  |     wilayah      |  tahun  |  triwulan  |  bulan  |  tanggal  |    nilai    |  target  |\n",
      "----------------------------------------------------------------------------------------------------------------------------------------------------------\n",
      "   1  |    0  |  Luas Lahan yang Dibakar (Ha)  |             1  |       Indonesia  |   2008  |            |         |           |  1857348.3  |          |\n",
      "   2  |    1  |  Luas Lahan yang Dibakar (Ha)  |            11  |            ACEH  |   2008  |            |         |           |    21402.1  |          |\n",
      "   3  |    2  |  Luas Lahan yang Dibakar (Ha)  |            12  |  SUMATERA UTARA  |   2008  |            |         |           |    15946.8  |          |\n",
      "   4  |    3  |  Luas Lahan yang Dibakar (Ha)  |            13  |  SUMATERA BARAT  |   2008  |            |         |           |     5601.2  |          |\n",
      "   5  |    4  |  Luas Lahan yang Dibakar (Ha)  |            14  |            RIAU  |   2008  |            |         |           |    13729.2  |          |\n",
      "                                           12181618.csv summary                                            \n",
      "    Mean [nilai]     |  Max [nilai]  |  Min [nilai]  |  Sum [nilai]  |  Median [nilai]  |  Range [nilai]  |\n",
      "-----------------------------------------------------------------------------------------------------------\n",
      " 18025.386842105272  |    1857348.3  |          0.3  |    5479717.6  |           696.8  |        1857348  |"
     ]
    },
    {
     "data": {
      "text/plain": [
       "null"
      ]
     },
     "execution_count": 3,
     "metadata": {},
     "output_type": "execute_result"
    }
   ],
   "source": [
    "import tech.tablesaw.api.*;\n",
    "import tech.tablesaw.io.json.*;\n",
    "import static tech.tablesaw.aggregate.AggregateFunctions.*;\n",
    "\n",
    "// display Tablesaw tables with BeakerX table display widget\n",
    "tech.tablesaw.beakerx.TablesawDisplayer.register();\n",
    "\n",
    "//init objek csv\n",
    "Table  uascsv= Table.read().csv(\"datasets/12181618/12181618.csv\");\n",
    "\n",
    "//print dataset structure\n",
    "System.out.println(uascsv.structure());\n",
    "\n",
    "//Menampilkan 5 baris data yang pertama dari data frame fieCSV\n",
    "System.out.println(uascsv.first(5));\n",
    "\n",
    "//init objek JsonReader \n",
    "JsonReader reader = new JsonReader();\n",
    "\n",
    "//membaca file 12181610.json\n",
    "JsonReadOptions fileJSON = JsonReadOptions.builder(\"datasets/12181618/12181618.json\").build();\n",
    "\n",
    "//memasukan data fileJSON ke dataframe \n",
    "Table uasjson = reader.read(fileJSON);\n",
    "\n",
    "//menampilkan structure dataframe tabeljson\n",
    "System.out.println(uasjson.structure());\n",
    "\n",
    "//Menampilkan 5 baris data yang pertama dari data frame fieJSON\n",
    "System.out.println(uasjson.first(5));\n",
    "\n",
    "//menggabungkan data pada fieCSV dan fieJSON untuk disimpan di dataframe datagabung\n",
    "Table datagabung = uascsv.append(uasjson);\n",
    "\n",
    "//menampilkan gabungan data yang ada di dataframe datagabung\n",
    "System.out.println(datagabung.first(5)); \n",
    "\n",
    "//menampilkan summary data yang ada di dataframe datagabung kolom \"grade\"\n",
    "System.out.print(datagabung.summarize(\"Nilai\", mean, max, min, sum, median, range).apply());"
   ]
  },
  {
   "cell_type": "code",
   "execution_count": 4,
   "metadata": {},
   "outputs": [
    {
     "data": {
      "application/vnd.jupyter.widget-view+json": {
       "model_id": "",
       "version_major": 2,
       "version_minor": 0
      },
      "method": "display_data"
     },
     "metadata": {},
     "output_type": "display_data"
    },
    {
     "data": {
      "application/vnd.jupyter.widget-view+json": {
       "model_id": "38f3a8af-9445-484a-b28f-eb6cc17a8790",
       "version_major": 2,
       "version_minor": 0
      },
      "method": "display_data"
     },
     "metadata": {},
     "output_type": "display_data"
    }
   ],
   "source": [
    "%%classpath add mvn\n",
    "tech.tablesaw tablesaw-beakerx 0.30.3\n",
    "tech.tablesaw tablesaw-jsplot 0.37.0 \n",
    "tech.tablesaw tablesaw-plot 0.24.4 "
   ]
  },
  {
   "cell_type": "code",
   "execution_count": 5,
   "metadata": {},
   "outputs": [
    {
     "name": "stdout",
     "output_type": "stream",
     "text": [
      "      12181618.csv summary      \n",
      " kode_wilayah  |  Sum [nilai]  |\n",
      "--------------------------------\n",
      "            1  |    1857348.3  |\n",
      "           11  |      21402.1  |\n",
      "           12  |      15946.8  |\n",
      "           13  |       5601.2  |\n",
      "           14  |      13729.2  |\n",
      "           15  |      11264.7  |\n",
      "           16  |      39692.5  |\n",
      "           17  |       7676.7  |\n",
      "           18  |      56679.1  |\n",
      "           19  |       7790.3  |\n",
      "          ...  |          ...  |\n",
      "         1903  |       2545.3  |\n",
      "         1904  |         1016  |\n",
      "         1905  |         1090  |\n",
      "         1906  |         66.5  |\n",
      "         1971  |            0  |\n",
      "         2101  |           26  |\n",
      "         2102  |           19  |\n",
      "         2103  |         1375  |\n",
      "         2104  |        183.8  |\n",
      "         2171  |           26  |\n",
      "            12181618.csv summary             \n",
      "          wilayah           |  Sum [nilai]  |\n",
      "---------------------------------------------\n",
      "                 Indonesia  |    1857348.3  |\n",
      "                      ACEH  |      21402.1  |\n",
      "            SUMATERA UTARA  |      15946.8  |\n",
      "            SUMATERA BARAT  |       5601.2  |\n",
      "                      RIAU  |      13729.2  |\n",
      "                     JAMBI  |      11264.7  |\n",
      "          SUMATERA SELATAN  |      39692.5  |\n",
      "                  BENGKULU  |       7676.7  |\n",
      "                   LAMPUNG  |      56679.1  |\n",
      " KEPULAUAN BANGKA BELITUNG  |       7790.3  |\n",
      "                       ...  |          ...  |\n",
      "              BANGKA BARAT  |       2545.3  |\n",
      "             BANGKA TENGAH  |         1016  |\n",
      "            BANGKA SELATAN  |         1090  |\n",
      "            BELITUNG TIMUR  |         66.5  |\n",
      "       KOTA PANGKAL PINANG  |            0  |\n",
      "                   KARIMUN  |           26  |\n",
      "                    BINTAN  |           19  |\n",
      "                    NATUNA  |         1375  |\n",
      "                    LINGGA  |        183.8  |\n",
      "                KOTA BATAM  |           26  |\n"
     ]
    },
    {
     "data": {
      "text/plain": [
       "null"
      ]
     },
     "execution_count": 5,
     "metadata": {},
     "output_type": "execute_result"
    }
   ],
   "source": [
    "import static tech.tablesaw.aggregate.AggregateFunctions.*;\n",
    "\n",
    "import tech.tablesaw.api.*;\n",
    "import tech.tablesaw.io.csv.*;\n",
    "\n",
    "import tech.tablesaw.plotly.Plot;\n",
    "import tech.tablesaw.plotly.api.HorizontalBarPlot;\n",
    "import tech.tablesaw.plotly.api.VerticalBarPlot;\n",
    "import tech.tablesaw.plotly.components.Figure;\n",
    "import tech.tablesaw.plotly.components.Layout;\n",
    "import tech.tablesaw.plotly.components.Marker;\n",
    "import tech.tablesaw.plotly.traces.BarTrace;\n",
    "import tech.tablesaw.plotly.traces.Trace;\n",
    "\n",
    "// display Tablesaw tables with BeakerX table display widget\n",
    "tech.tablesaw.beakerx.TablesawDisplayer.register();\n",
    "\n",
    "//init objek\n",
    "Table  dfData = Table.read().csv(\"datasets/12181618/12181618.csv\");\n",
    "\n",
    "Table summaryPendapatan =  dfData.summarize(\"nilai\", sum).by(\"kode_wilayah\");;\n",
    "\n",
    "Table sumTotal =  dfData.summarize(\"nilai\", sum).by(\"wilayah\");\n",
    "\n",
    "System.out.println(summaryPendapatan.print());\n",
    "\n",
    "System.out.println(sumTotal.print());\n",
    "\n",
    "//Ploting grafik secara vertical \n",
    "Plot.show(\n",
    "        VerticalBarPlot.create(\n",
    "            \"nilai\",\n",
    "            summaryPendapatan,\n",
    "            \"kode_wilayah\",\n",
    "            Layout.BarMode.GROUP,\n",
    "            \"Sum [nilai]\"));\n",
    "\n",
    "//Ploting grafik secara horisontal \n",
    "  Plot.show(\n",
    "        HorizontalBarPlot.create(\n",
    "            \"nilai\",\n",
    "            sumTotal,\n",
    "            \"wilayah\",\n",
    "            Layout.BarMode.STACK,\n",
    "            \"Sum [nilai]\"));"
   ]
  },
  {
   "cell_type": "code",
   "execution_count": null,
   "metadata": {},
   "outputs": [],
   "source": []
  }
 ],
 "metadata": {
  "kernelspec": {
   "display_name": "Java",
   "language": "java",
   "name": "java"
  },
  "language_info": {
   "codemirror_mode": "text/x-java",
   "file_extension": ".java",
   "mimetype": "",
   "name": "Java",
   "nbconverter_exporter": "",
   "version": "1.8.0_121"
  },
  "toc": {
   "base_numbering": 1,
   "nav_menu": {},
   "number_sections": false,
   "sideBar": false,
   "skip_h1_title": false,
   "title_cell": "Table of Contents",
   "title_sidebar": "Contents",
   "toc_cell": false,
   "toc_position": {},
   "toc_section_display": false,
   "toc_window_display": false
  }
 },
 "nbformat": 4,
 "nbformat_minor": 2
}
